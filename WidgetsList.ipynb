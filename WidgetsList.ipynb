{
 "cells": [
  {
   "cell_type": "code",
   "execution_count": 1,
   "metadata": {},
   "outputs": [],
   "source": [
    "import ipywidgets as widgets\n",
    "from IPython.display import display"
   ]
  },
  {
   "cell_type": "code",
   "execution_count": 2,
   "metadata": {},
   "outputs": [
    {
     "data": {
      "application/vnd.jupyter.widget-view+json": {
       "model_id": "8d40c87542974198a8130982ddc46cb1",
       "version_major": 2,
       "version_minor": 0
      },
      "text/plain": [
       "FloatSlider(value=6.8, description='Demo:', max=10.0)"
      ]
     },
     "metadata": {},
     "output_type": "display_data"
    }
   ],
   "source": [
    "widgets.FloatSlider(\n",
    "    value = 6.8,\n",
    "    min = 0,\n",
    "    max = 10.0,\n",
    "    step = 0.1,\n",
    "    description = 'Demo:',\n",
    "    orientation = 'horizontal',\n",
    "    readout_format = '.2f'\n",
    ")"
   ]
  },
  {
   "cell_type": "code",
   "execution_count": 3,
   "metadata": {},
   "outputs": [
    {
     "data": {
      "application/vnd.jupyter.widget-view+json": {
       "model_id": "9bb9b78341c44accbc3bc7f3f3eae158",
       "version_major": 2,
       "version_minor": 0
      },
      "text/plain": [
       "IntRangeSlider(value=(2, 8), max=10)"
      ]
     },
     "metadata": {},
     "output_type": "display_data"
    }
   ],
   "source": [
    "w = widgets.IntRangeSlider(\n",
    "    value = (2, 8),\n",
    "    min = 0,\n",
    "    max = 10,\n",
    "    step = 1\n",
    ")\n",
    "\n",
    "display(w)"
   ]
  },
  {
   "cell_type": "code",
   "execution_count": 4,
   "metadata": {},
   "outputs": [
    {
     "data": {
      "text/plain": [
       "(2, 8)"
      ]
     },
     "execution_count": 4,
     "metadata": {},
     "output_type": "execute_result"
    }
   ],
   "source": [
    "w.value"
   ]
  },
  {
   "cell_type": "code",
   "execution_count": 5,
   "metadata": {},
   "outputs": [
    {
     "data": {
      "application/vnd.jupyter.widget-view+json": {
       "model_id": "28dbd70d78864c66b8517772bb6ba2b8",
       "version_major": 2,
       "version_minor": 0
      },
      "text/plain": [
       "IntProgress(value=8, bar_style='success', description='Loading:', max=10)"
      ]
     },
     "metadata": {},
     "output_type": "display_data"
    }
   ],
   "source": [
    "widgets.IntProgress(\n",
    "    value=8,\n",
    "    min=0,\n",
    "    max=10,\n",
    "    step=1,\n",
    "    description='Loading:',\n",
    "    bar_style='success',\n",
    "    orientation='horizontal'\n",
    ")"
   ]
  },
  {
   "cell_type": "code",
   "execution_count": 6,
   "metadata": {},
   "outputs": [
    {
     "data": {
      "application/vnd.jupyter.widget-view+json": {
       "model_id": "062623d94d9e466abab62defc90b2787",
       "version_major": 2,
       "version_minor": 0
      },
      "text/plain": [
       "FloatProgress(value=4.7, bar_style='warning', description='Loading:', max=10.0)"
      ]
     },
     "metadata": {},
     "output_type": "display_data"
    }
   ],
   "source": [
    "widgets.FloatProgress(\n",
    "    value=4.7,\n",
    "    min=0,\n",
    "    max=10.0,\n",
    "    step=0.1,\n",
    "    description='Loading:',\n",
    "    bar_style='warning'\n",
    ")"
   ]
  },
  {
   "cell_type": "code",
   "execution_count": 7,
   "metadata": {},
   "outputs": [
    {
     "data": {
      "application/vnd.jupyter.widget-view+json": {
       "model_id": "033f9d51f2084e0b9ad7977e930ab06f",
       "version_major": 2,
       "version_minor": 0
      },
      "text/plain": [
       "IntText(value=18, description='Demo 7:')"
      ]
     },
     "metadata": {},
     "output_type": "display_data"
    }
   ],
   "source": [
    "widgets.IntText(\n",
    "    value = 18,\n",
    "    description = 'Demo 7:'\n",
    ")"
   ]
  },
  {
   "cell_type": "code",
   "execution_count": 8,
   "metadata": {},
   "outputs": [
    {
     "data": {
      "application/vnd.jupyter.widget-view+json": {
       "model_id": "ebcfff8ece134d39aafabeca21612a7b",
       "version_major": 2,
       "version_minor": 0
      },
      "text/plain": [
       "BoundedFloatText(value=6.9, description='Demo 8:', max=10.0, step=0.1)"
      ]
     },
     "metadata": {},
     "output_type": "display_data"
    }
   ],
   "source": [
    "widgets.BoundedFloatText(\n",
    "    value=6.9,\n",
    "    min=0,\n",
    "    max=10.0,\n",
    "    step=0.1,\n",
    "    description = 'Demo 8:'\n",
    ")"
   ]
  },
  {
   "cell_type": "code",
   "execution_count": 9,
   "metadata": {},
   "outputs": [],
   "source": [
    "w9=widgets.ToggleButton(\n",
    "    value=False,\n",
    "    description='Click me',\n",
    "    disabled=False,\n",
    "    button_style='', # 'success', 'info', 'warning', 'danger' or ''\n",
    "    tooltip='Description',\n",
    "    icon='a'\n",
    ")"
   ]
  },
  {
   "cell_type": "code",
   "execution_count": 10,
   "metadata": {},
   "outputs": [
    {
     "data": {
      "application/vnd.jupyter.widget-view+json": {
       "model_id": "2553ea1c1692472eb15dc0b48af748d1",
       "version_major": 2,
       "version_minor": 0
      },
      "text/plain": [
       "ToggleButton(value=False, description='Click me', icon='a', tooltip='Description')"
      ]
     },
     "metadata": {},
     "output_type": "display_data"
    }
   ],
   "source": [
    "w9"
   ]
  },
  {
   "cell_type": "code",
   "execution_count": 11,
   "metadata": {},
   "outputs": [
    {
     "data": {
      "text/plain": [
       "False"
      ]
     },
     "execution_count": 11,
     "metadata": {},
     "output_type": "execute_result"
    }
   ],
   "source": [
    "w9.value"
   ]
  },
  {
   "cell_type": "code",
   "execution_count": 12,
   "metadata": {},
   "outputs": [
    {
     "data": {
      "application/vnd.jupyter.widget-view+json": {
       "model_id": "d5bc9e9bf8fb47aeb5261bfc16584f73",
       "version_major": 2,
       "version_minor": 0
      },
      "text/plain": [
       "Checkbox(value=False, description='Check me')"
      ]
     },
     "metadata": {},
     "output_type": "display_data"
    }
   ],
   "source": [
    "widgets.Checkbox(\n",
    "    value=False,\n",
    "    description='Check me'\n",
    ")"
   ]
  },
  {
   "cell_type": "code",
   "execution_count": 13,
   "metadata": {},
   "outputs": [
    {
     "data": {
      "application/vnd.jupyter.widget-view+json": {
       "model_id": "ae40695cde2944758d1799359f47f913",
       "version_major": 2,
       "version_minor": 0
      },
      "text/plain": [
       "ToggleButton(value=False, button_style='success', description='Click me')"
      ]
     },
     "metadata": {},
     "output_type": "display_data"
    }
   ],
   "source": [
    "widgets.ToggleButton(\n",
    "    value=False,\n",
    "    description='Click me',\n",
    "    button_style='success'\n",
    ")"
   ]
  },
  {
   "cell_type": "code",
   "execution_count": 14,
   "metadata": {},
   "outputs": [
    {
     "data": {
      "application/vnd.jupyter.widget-view+json": {
       "model_id": "3068807115114b97a09dc5bf5003479e",
       "version_major": 2,
       "version_minor": 0
      },
      "text/plain": [
       "Valid(value=True, description='Valid ?')"
      ]
     },
     "metadata": {},
     "output_type": "display_data"
    }
   ],
   "source": [
    "widgets.Valid(\n",
    "    value=True,\n",
    "    description='Valid ?'\n",
    ")"
   ]
  },
  {
   "cell_type": "code",
   "execution_count": 15,
   "metadata": {},
   "outputs": [],
   "source": [
    "\n",
    "w12=widgets.ToggleButtons(\n",
    "    options=['Slow', 'Regular', 'Fast'],\n",
    "    description='Speed:',\n",
    "    disabled=False,\n",
    "    button_style='', # 'success', 'info', 'warning', 'danger' or ''\n",
    "    tooltips=['Description of slow', 'Description of regular', 'Description of fast'],\n",
    "#     icons=['check'] * 3\n",
    ")"
   ]
  },
  {
   "cell_type": "code",
   "execution_count": 16,
   "metadata": {},
   "outputs": [
    {
     "data": {
      "application/vnd.jupyter.widget-view+json": {
       "model_id": "9d240f22003d4814aaad8f4b3932fd21",
       "version_major": 2,
       "version_minor": 0
      },
      "text/plain": [
       "ToggleButtons(description='Speed:', options=('Slow', 'Regular', 'Fast'), tooltips=('Description of slow', 'Des…"
      ]
     },
     "metadata": {},
     "output_type": "display_data"
    }
   ],
   "source": [
    "w12"
   ]
  },
  {
   "cell_type": "code",
   "execution_count": 17,
   "metadata": {},
   "outputs": [
    {
     "data": {
      "text/plain": [
       "'Slow'"
      ]
     },
     "execution_count": 17,
     "metadata": {},
     "output_type": "execute_result"
    }
   ],
   "source": [
    "w12.value"
   ]
  },
  {
   "cell_type": "code",
   "execution_count": 18,
   "metadata": {},
   "outputs": [
    {
     "data": {
      "application/vnd.jupyter.widget-view+json": {
       "model_id": "5a08d1ed9ffb41a08a130c8490b32214",
       "version_major": 2,
       "version_minor": 0
      },
      "text/plain": [
       "Dropdown(description='Demo:', index=1, options=('A', 'B', 'C'), value='B')"
      ]
     },
     "metadata": {},
     "output_type": "display_data"
    }
   ],
   "source": [
    "widgets.Dropdown(\n",
    "    options=['A', 'B', 'C'],\n",
    "    value='B',\n",
    "    description='Demo:'\n",
    ")"
   ]
  },
  {
   "cell_type": "code",
   "execution_count": 19,
   "metadata": {},
   "outputs": [
    {
     "data": {
      "application/vnd.jupyter.widget-view+json": {
       "model_id": "e57428af288542b9b2a4fb60859f6d7b",
       "version_major": 2,
       "version_minor": 0
      },
      "text/plain": [
       "RadioButtons(description='Demo:', index=1, options=('A', 'B', 'C'), value='B')"
      ]
     },
     "metadata": {},
     "output_type": "display_data"
    }
   ],
   "source": [
    "widgets.RadioButtons(\n",
    "    options=['A', 'B', 'C'],\n",
    "    value='B',\n",
    "    description='Demo:'\n",
    ")"
   ]
  },
  {
   "cell_type": "code",
   "execution_count": 20,
   "metadata": {},
   "outputs": [
    {
     "data": {
      "application/vnd.jupyter.widget-view+json": {
       "model_id": "af8cf6c95a7545718a8e3c3f29859060",
       "version_major": 2,
       "version_minor": 0
      },
      "text/plain": [
       "Select(description='Demo:', index=2, options=('A', 'B', 'C'), value='C')"
      ]
     },
     "metadata": {},
     "output_type": "display_data"
    }
   ],
   "source": [
    "widgets.Select(\n",
    "    options=['A', 'B', 'C'],\n",
    "    value='C',\n",
    "    description='Demo:'\n",
    ")"
   ]
  },
  {
   "cell_type": "code",
   "execution_count": 21,
   "metadata": {},
   "outputs": [
    {
     "data": {
      "application/vnd.jupyter.widget-view+json": {
       "model_id": "a1adc120d2724e3192e7223597ed943f",
       "version_major": 2,
       "version_minor": 0
      },
      "text/plain": [
       "SelectMultiple(description='Demo:', options=('A', 'B', 'C'), value=())"
      ]
     },
     "metadata": {},
     "output_type": "display_data"
    }
   ],
   "source": [
    "widgets.SelectMultiple(\n",
    "    options=['A', 'B', 'C'],\n",
    "    description='Demo:'\n",
    ")"
   ]
  },
  {
   "cell_type": "code",
   "execution_count": 22,
   "metadata": {},
   "outputs": [
    {
     "data": {
      "application/vnd.jupyter.widget-view+json": {
       "model_id": "c9de2744ef704e5a95fd7ee77348447e",
       "version_major": 2,
       "version_minor": 0
      },
      "text/plain": [
       "Text(value='Tensuntrans', description='Company:')"
      ]
     },
     "metadata": {},
     "output_type": "display_data"
    }
   ],
   "source": [
    "widgets.Text(\n",
    "    description = 'Company:',\n",
    "    value = 'Tensuntrans'\n",
    ")"
   ]
  },
  {
   "cell_type": "code",
   "execution_count": 23,
   "metadata": {},
   "outputs": [
    {
     "data": {
      "application/vnd.jupyter.widget-view+json": {
       "model_id": "1a456bdfd51b41bdb8b1b9638391ac25",
       "version_major": 2,
       "version_minor": 0
      },
      "text/plain": [
       "Textarea(value='', description='Details:')"
      ]
     },
     "metadata": {},
     "output_type": "display_data"
    }
   ],
   "source": [
    "widgets.Textarea(description = 'Details:')"
   ]
  },
  {
   "cell_type": "code",
   "execution_count": 24,
   "metadata": {},
   "outputs": [
    {
     "data": {
      "application/vnd.jupyter.widget-view+json": {
       "model_id": "2d4e03769d6a42aeace43ea8d2392fb9",
       "version_major": 2,
       "version_minor": 0
      },
      "text/plain": [
       "HBox(children=(Label(value='$b=\\\\lambda T$'), FloatSlider(value=0.0)))"
      ]
     },
     "metadata": {},
     "output_type": "display_data"
    }
   ],
   "source": [
    "widgets.HBox([widgets.Label(value = '$b=\\lambda T$'),widgets.FloatSlider()])"
   ]
  },
  {
   "cell_type": "code",
   "execution_count": 25,
   "metadata": {},
   "outputs": [
    {
     "data": {
      "application/vnd.jupyter.widget-view+json": {
       "model_id": "ee31dc1dbedd4edb91eb8226d209750b",
       "version_major": 2,
       "version_minor": 0
      },
      "text/plain": [
       "HTML(value='<i>双波长火焰探测器</i><br/> <b>温度</b>与<b>波长</b>的基本关系')"
      ]
     },
     "metadata": {},
     "output_type": "display_data"
    }
   ],
   "source": [
    "widgets.HTML(\n",
    "    value=\"<i>双波长火焰探测器</i><br/> <b>温度</b>与<b>波长</b>的基本关系\"\n",
    ")"
   ]
  },
  {
   "cell_type": "code",
   "execution_count": 26,
   "metadata": {},
   "outputs": [],
   "source": [
    "file = open(\"images/TSF9200.png\",\"rb\")\n",
    "image = file.read()\n",
    "\n",
    "IMG = widgets.Image(\n",
    "    value = image,\n",
    "    format = 'png',\n",
    "    width=210\n",
    ")"
   ]
  },
  {
   "cell_type": "code",
   "execution_count": 27,
   "metadata": {},
   "outputs": [
    {
     "data": {
      "application/vnd.jupyter.widget-view+json": {
       "model_id": "ca5ef65221c2403fb6a3231d3ca45249",
       "version_major": 2,
       "version_minor": 0
      },
      "text/plain": [
       "Image(value=b'\\x89PNG\\r\\n\\x1a\\n\\x00\\x00\\x00\\rIHDR\\x00\\x00\\x01,\\x00\\x00\\x00\\xf4\\x08\\x03\\x00\\x00\\x00\\x16\\xb9\\xeb…"
      ]
     },
     "metadata": {},
     "output_type": "display_data"
    }
   ],
   "source": [
    "IMG"
   ]
  },
  {
   "cell_type": "code",
   "execution_count": 28,
   "metadata": {},
   "outputs": [
    {
     "data": {
      "application/vnd.jupyter.widget-view+json": {
       "model_id": "307e897cefa94420a31576973d554c64",
       "version_major": 2,
       "version_minor": 0
      },
      "text/plain": [
       "HBox(children=(Image(value=b'\\x89PNG\\r\\n\\x1a\\n\\x00\\x00\\x00\\rIHDR\\x00\\x00\\x01,\\x00\\x00\\x00\\xf4\\x08\\x03\\x00\\x00\\…"
      ]
     },
     "metadata": {},
     "output_type": "display_data"
    }
   ],
   "source": [
    "lbm = widgets.Label(value='型号：')\n",
    "lbq = widgets.Label(value='数量：')\n",
    "lbc = widgets.Label(value='备注：')\n",
    "\n",
    "mod = widgets.Select(options=['TSF 9200','GS 9208','TSF 9200 IR2'])\n",
    "qty = widgets.IntSlider()\n",
    "comments = widgets.Textarea()\n",
    "\n",
    "widgets.HBox(\n",
    "    [IMG,\n",
    "     widgets.VBox([lbm,mod,lbq,qty]),\n",
    "     widgets.VBox([lbc,comments])]\n",
    ")\n"
   ]
  },
  {
   "cell_type": "code",
   "execution_count": 29,
   "metadata": {},
   "outputs": [
    {
     "data": {
      "text/plain": [
       "['__class__',\n",
       " '__del__',\n",
       " '__delattr__',\n",
       " '__dict__',\n",
       " '__dir__',\n",
       " '__doc__',\n",
       " '__eq__',\n",
       " '__format__',\n",
       " '__ge__',\n",
       " '__getattribute__',\n",
       " '__getstate__',\n",
       " '__gt__',\n",
       " '__hash__',\n",
       " '__init__',\n",
       " '__init_subclass__',\n",
       " '__le__',\n",
       " '__lt__',\n",
       " '__module__',\n",
       " '__ne__',\n",
       " '__new__',\n",
       " '__reduce__',\n",
       " '__reduce_ex__',\n",
       " '__repr__',\n",
       " '__setattr__',\n",
       " '__setstate__',\n",
       " '__sizeof__',\n",
       " '__str__',\n",
       " '__subclasshook__',\n",
       " '__weakref__',\n",
       " '_add_notifiers',\n",
       " '_call_widget_constructed',\n",
       " '_comm_changed',\n",
       " '_compare',\n",
       " '_cross_validation_lock',\n",
       " '_default_keys',\n",
       " '_display_callbacks',\n",
       " '_dom_classes',\n",
       " '_from_file',\n",
       " '_gen_repr_from_keys',\n",
       " '_get_embed_state',\n",
       " '_get_repr',\n",
       " '_guess_format',\n",
       " '_handle_custom_msg',\n",
       " '_handle_displayed',\n",
       " '_handle_msg',\n",
       " '_holding_sync',\n",
       " '_ipython_display_',\n",
       " '_is_numpy',\n",
       " '_load_file_value',\n",
       " '_lock_property',\n",
       " '_log_default',\n",
       " '_model_id',\n",
       " '_model_module',\n",
       " '_model_module_version',\n",
       " '_model_name',\n",
       " '_msg_callbacks',\n",
       " '_notify_trait',\n",
       " '_property_lock',\n",
       " '_register_validator',\n",
       " '_remove_notifiers',\n",
       " '_repr_keys',\n",
       " '_send',\n",
       " '_should_send_property',\n",
       " '_states_to_send',\n",
       " '_trait_default_generators',\n",
       " '_trait_from_json',\n",
       " '_trait_notifiers',\n",
       " '_trait_to_json',\n",
       " '_trait_validators',\n",
       " '_trait_values',\n",
       " '_view_count',\n",
       " '_view_module',\n",
       " '_view_module_version',\n",
       " '_view_name',\n",
       " '_widget_construction_callback',\n",
       " 'add_class',\n",
       " 'add_traits',\n",
       " 'class_own_trait_events',\n",
       " 'class_own_traits',\n",
       " 'class_trait_names',\n",
       " 'class_traits',\n",
       " 'close',\n",
       " 'close_all',\n",
       " 'comm',\n",
       " 'cross_validation_lock',\n",
       " 'format',\n",
       " 'from_file',\n",
       " 'from_url',\n",
       " 'get_interact_value',\n",
       " 'get_manager_state',\n",
       " 'get_state',\n",
       " 'get_view_spec',\n",
       " 'handle_comm_opened',\n",
       " 'has_trait',\n",
       " 'height',\n",
       " 'hold_sync',\n",
       " 'hold_trait_notifications',\n",
       " 'keys',\n",
       " 'layout',\n",
       " 'log',\n",
       " 'model_id',\n",
       " 'notify_change',\n",
       " 'observe',\n",
       " 'on_displayed',\n",
       " 'on_msg',\n",
       " 'on_trait_change',\n",
       " 'on_widget_constructed',\n",
       " 'open',\n",
       " 'remove_class',\n",
       " 'send',\n",
       " 'send_state',\n",
       " 'set_state',\n",
       " 'set_trait',\n",
       " 'set_value_from_file',\n",
       " 'setup_instance',\n",
       " 'trait_events',\n",
       " 'trait_metadata',\n",
       " 'trait_names',\n",
       " 'traits',\n",
       " 'unobserve',\n",
       " 'unobserve_all',\n",
       " 'value',\n",
       " 'widget_types',\n",
       " 'widgets',\n",
       " 'width']"
      ]
     },
     "execution_count": 29,
     "metadata": {},
     "output_type": "execute_result"
    }
   ],
   "source": [
    "dir(IMG)"
   ]
  },
  {
   "cell_type": "code",
   "execution_count": 30,
   "metadata": {},
   "outputs": [
    {
     "data": {
      "text/plain": [
       "'210'"
      ]
     },
     "execution_count": 30,
     "metadata": {},
     "output_type": "execute_result"
    }
   ],
   "source": [
    "IMG.width"
   ]
  }
 ],
 "metadata": {
  "kernelspec": {
   "display_name": "Python 3",
   "language": "python",
   "name": "python3"
  },
  "language_info": {
   "codemirror_mode": {
    "name": "ipython",
    "version": 3
   },
   "file_extension": ".py",
   "mimetype": "text/x-python",
   "name": "python",
   "nbconvert_exporter": "python",
   "pygments_lexer": "ipython3",
   "version": "3.7.6"
  },
  "toc": {
   "base_numbering": 1,
   "nav_menu": {},
   "number_sections": true,
   "sideBar": true,
   "skip_h1_title": false,
   "title_cell": "Table of Contents",
   "title_sidebar": "Contents",
   "toc_cell": false,
   "toc_position": {},
   "toc_section_display": true,
   "toc_window_display": false
  }
 },
 "nbformat": 4,
 "nbformat_minor": 2
}
